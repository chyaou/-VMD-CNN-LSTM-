{
 "cells": [
  {
   "cell_type": "code",
   "execution_count": 4,
   "id": "f1ba8706",
   "metadata": {},
   "outputs": [
    {
     "ename": "ModuleNotFoundError",
     "evalue": "No module named 'tensorflow'",
     "output_type": "error",
     "traceback": [
      "\u001b[1;31m---------------------------------------------------------------------------\u001b[0m",
      "\u001b[1;31mModuleNotFoundError\u001b[0m                       Traceback (most recent call last)",
      "Input \u001b[1;32mIn [4]\u001b[0m, in \u001b[0;36m<cell line: 1>\u001b[1;34m()\u001b[0m\n\u001b[1;32m----> 1\u001b[0m \u001b[38;5;28;01mfrom\u001b[39;00m \u001b[38;5;21;01mtensorflow\u001b[39;00m \u001b[38;5;28;01mimport\u001b[39;00m keras\n\u001b[0;32m      2\u001b[0m \u001b[38;5;28mprint\u001b[39m(keras\u001b[38;5;241m.\u001b[39m__path__)\n",
      "\u001b[1;31mModuleNotFoundError\u001b[0m: No module named 'tensorflow'"
     ]
    }
   ],
   "source": [
    "import re\n",
    "\n",
    "import numpy as np\n",
    "from tensorflow.python.keras.layers import Dropout, Dense, SimpleRNN, LSTM\n",
    "import os\n",
    "import pandas as pd\n",
    "from sklearn.preprocessing import StandardScaler\n",
    "from tensorflow.python.keras.models import Sequential"
   ]
  },
  {
   "cell_type": "code",
   "execution_count": 2,
   "id": "8793840c",
   "metadata": {},
   "outputs": [
    {
     "ename": "NameError",
     "evalue": "name 'os' is not defined",
     "output_type": "error",
     "traceback": [
      "\u001b[1;31m---------------------------------------------------------------------------\u001b[0m",
      "\u001b[1;31mNameError\u001b[0m                                 Traceback (most recent call last)",
      "Input \u001b[1;32mIn [2]\u001b[0m, in \u001b[0;36m<cell line: 1>\u001b[1;34m()\u001b[0m\n\u001b[1;32m----> 1\u001b[0m \u001b[43mos\u001b[49m\u001b[38;5;241m.\u001b[39menviron[\u001b[38;5;124m'\u001b[39m\u001b[38;5;124mTF_CPP_MIN_LOG_LEVEL\u001b[39m\u001b[38;5;124m'\u001b[39m] \u001b[38;5;241m=\u001b[39m \u001b[38;5;124m'\u001b[39m\u001b[38;5;124m2\u001b[39m\u001b[38;5;124m'\u001b[39m\n\u001b[0;32m      2\u001b[0m os\u001b[38;5;241m.\u001b[39menviron[\u001b[38;5;124m'\u001b[39m\u001b[38;5;124mCUDA_VISIBLE_DEVICES\u001b[39m\u001b[38;5;124m'\u001b[39m] \u001b[38;5;241m=\u001b[39m \u001b[38;5;124m'\u001b[39m\u001b[38;5;124m1\u001b[39m\u001b[38;5;124m'\u001b[39m\n",
      "\u001b[1;31mNameError\u001b[0m: name 'os' is not defined"
     ]
    }
   ],
   "source": [
    "os.environ['TF_CPP_MIN_LOG_LEVEL'] = '2'\n",
    "os.environ['CUDA_VISIBLE_DEVICES'] = '1'"
   ]
  },
  {
   "cell_type": "code",
   "execution_count": 31,
   "id": "f223f370",
   "metadata": {},
   "outputs": [],
   "source": [
    "def select():\n",
    "    path = './models'\n",
    "    a = os.listdir(path)\n",
    "    c = []\n",
    "    b = sorted(a)\n",
    "    f = []\n",
    "    for i, j in enumerate(b):\n",
    "        c.append(float((re.findall(r\"\\d+\\.?\\d*\", j[0:5]))[0]))\n",
    "        f.append(j)\n",
    "    # d = sorted(np.array(c), key=float)\n",
    "    # e = argsort(d)\n",
    "    # g = f[int(e[0])]\n",
    "    # print(g)\n",
    "    d = c.index(min(c))\n",
    "    d = f[d]\n",
    "    print(d)\n",
    "    return d"
   ]
  },
  {
   "cell_type": "code",
   "execution_count": 51,
   "id": "fe19a030",
   "metadata": {},
   "outputs": [],
   "source": [
    "pre_time = 10\n",
    "mem_his_days = 5\n",
    "unit = 20\n",
    "dense_layers = 'lstm+cnn'\n",
    "lstm_layers = 3\n",
    "epochs = 100\n",
    "test_size=0.2"
   ]
  },
  {
   "cell_type": "code",
   "execution_count": 52,
   "id": "f093dabb",
   "metadata": {},
   "outputs": [],
   "source": [
    "data = pd.read_csv('./data2/handle_Turbine_Data .csv')\n",
    "df = pd.DataFrame(data)\n",
    "df.dropna(inplace=True)\n",
    "\n",
    "df.sort_index(inplace=True)\n",
    "# print(df.head())\n",
    "df['label'] = df['ActivePower'].shift(-pre_time)\n",
    "# # print(df['label'])\n",
    "# # print(df.iloc[:,:-1])\n",
    "scaler = StandardScaler()\n",
    "sca_X = scaler.fit_transform(df.iloc[:,:-1])"
   ]
  },
  {
   "cell_type": "code",
   "execution_count": 53,
   "id": "3e61b607",
   "metadata": {},
   "outputs": [],
   "source": [
    "from collections import deque\n",
    "deq = deque(maxlen=mem_his_days)\n",
    "X = []\n",
    "for i in sca_X:\n",
    "    deq.append(list(i))\n",
    "    if len(deq) == mem_his_days:\n",
    "        X.append(list(deq))\n",
    "X_lately = X[-pre_time:]\n",
    "X = X[:-pre_time]\n",
    "# print(len(X))\n",
    "# print(len(X_lately))\n",
    "y = df['label'].values[mem_his_days-1:-pre_time]\n"
   ]
  },
  {
   "cell_type": "code",
   "execution_count": 54,
   "id": "9e156ae8",
   "metadata": {},
   "outputs": [
    {
     "name": "stdout",
     "output_type": "stream",
     "text": [
      "[-4.7576295  -5.21963507 -6.63190271 ... 20.77778972 62.09103858\n",
      " 68.66442478]\n"
     ]
    }
   ],
   "source": [
    "X = np.array(X)\n",
    "y = np.array(y)\n",
    "print(y)"
   ]
  },
  {
   "cell_type": "code",
   "execution_count": 112,
   "id": "3f66cdaf",
   "metadata": {},
   "outputs": [],
   "source": [
    "from sklearn.model_selection import train_test_split\n",
    "from tensorflow.python.keras.callbacks import ModelCheckpoint\n",
    "from tensorflow.python.keras.metrics import MeanSquaredLogarithmicError\n",
    "filepath = './models/{val_mean_squared_logarithmic_error:.4f}_{epoch:02d}_'+f'men_{mem_his_days}_lstm_{lstm_layers}_dense_{dense_layers}_unit_{unit}_test_size_{test_size}'\n",
    "checkpoint = ModelCheckpoint(\n",
    "    filepath=filepath,\n",
    "    save_weights_only=False,\n",
    "    monitor='val_mean_squared_logarithmic_error',\n",
    "    mode='min',\n",
    "    save_best_only=True\n",
    "                    )\n",
    "\n",
    "X_train, X_test, y_train, y_test = train_test_split(X, y, test_size=test_size,shuffle=False)\n"
   ]
  },
  {
   "cell_type": "code",
   "execution_count": null,
   "id": "4cb9e3ba",
   "metadata": {},
   "outputs": [
    {
     "name": "stdout",
     "output_type": "stream",
     "text": [
      "Epoch 1/100\n",
      "404/404 [==============================] - 15s 32ms/step - loss: 305.1411 - mean_squared_logarithmic_error: 5.3404 - val_loss: 269.2645 - val_mean_squared_logarithmic_error: 4.2974\n",
      "INFO:tensorflow:Assets written to: ./models\\4.2974_01_men_5_lstm_3_dense_lstm+rnn_unit_100_test_size_0.2\\assets\n",
      "Epoch 2/100\n",
      "404/404 [==============================] - 14s 35ms/step - loss: 250.6224 - mean_squared_logarithmic_error: 3.9045 - val_loss: 249.3138 - val_mean_squared_logarithmic_error: 3.9105\n",
      "INFO:tensorflow:Assets written to: ./models\\3.9105_02_men_5_lstm_3_dense_lstm+rnn_unit_100_test_size_0.2\\assets\n",
      "Epoch 3/100\n",
      "404/404 [==============================] - 16s 40ms/step - loss: 243.7148 - mean_squared_logarithmic_error: 3.7196 - val_loss: 247.1477 - val_mean_squared_logarithmic_error: 3.9878\n",
      "Epoch 4/100\n",
      "404/404 [==============================] - 16s 41ms/step - loss: 239.8922 - mean_squared_logarithmic_error: 3.6306 - val_loss: 238.8621 - val_mean_squared_logarithmic_error: 3.6108\n",
      "INFO:tensorflow:Assets written to: ./models\\3.6108_04_men_5_lstm_3_dense_lstm+rnn_unit_100_test_size_0.2\\assets\n",
      "Epoch 5/100\n",
      "404/404 [==============================] - 16s 40ms/step - loss: 234.5592 - mean_squared_logarithmic_error: 3.5173 - val_loss: 228.6967 - val_mean_squared_logarithmic_error: 4.0953\n",
      "Epoch 6/100\n",
      "404/404 [==============================] - 17s 42ms/step - loss: 234.2321 - mean_squared_logarithmic_error: 3.5831 - val_loss: 225.1754 - val_mean_squared_logarithmic_error: 4.1975\n",
      "Epoch 7/100\n",
      "404/404 [==============================] - 16s 40ms/step - loss: 231.1967 - mean_squared_logarithmic_error: 3.4781 - val_loss: 224.4302 - val_mean_squared_logarithmic_error: 3.6630\n",
      "Epoch 8/100\n",
      "404/404 [==============================] - 16s 40ms/step - loss: 230.8380 - mean_squared_logarithmic_error: 3.4547 - val_loss: 229.1223 - val_mean_squared_logarithmic_error: 3.8616\n",
      "Epoch 9/100\n",
      "404/404 [==============================] - 16s 40ms/step - loss: 227.9066 - mean_squared_logarithmic_error: 3.4842 - val_loss: 235.8742 - val_mean_squared_logarithmic_error: 3.7071\n",
      "Epoch 10/100\n",
      "404/404 [==============================] - 16s 40ms/step - loss: 226.5293 - mean_squared_logarithmic_error: 3.4238 - val_loss: 230.5207 - val_mean_squared_logarithmic_error: 3.9118\n",
      "Epoch 11/100\n",
      "404/404 [==============================] - 16s 40ms/step - loss: 225.5841 - mean_squared_logarithmic_error: 3.5069 - val_loss: 233.9219 - val_mean_squared_logarithmic_error: 3.8595\n",
      "Epoch 12/100\n",
      "404/404 [==============================] - 16s 40ms/step - loss: 223.5263 - mean_squared_logarithmic_error: 3.3960 - val_loss: 232.0414 - val_mean_squared_logarithmic_error: 3.8340\n",
      "Epoch 13/100\n",
      "404/404 [==============================] - 16s 40ms/step - loss: 221.9488 - mean_squared_logarithmic_error: 3.4130 - val_loss: 260.2925 - val_mean_squared_logarithmic_error: 3.9530\n",
      "Epoch 14/100\n",
      "404/404 [==============================] - 16s 40ms/step - loss: 221.4490 - mean_squared_logarithmic_error: 3.3455 - val_loss: 230.6780 - val_mean_squared_logarithmic_error: 3.7512\n",
      "Epoch 15/100\n",
      "404/404 [==============================] - 16s 40ms/step - loss: 218.5762 - mean_squared_logarithmic_error: 3.3160 - val_loss: 244.9790 - val_mean_squared_logarithmic_error: 4.0237\n",
      "Epoch 16/100\n",
      "404/404 [==============================] - 16s 40ms/step - loss: 218.4547 - mean_squared_logarithmic_error: 3.3624 - val_loss: 227.3984 - val_mean_squared_logarithmic_error: 3.8225\n",
      "Epoch 17/100\n",
      "404/404 [==============================] - 16s 40ms/step - loss: 217.3154 - mean_squared_logarithmic_error: 3.3072 - val_loss: 249.6643 - val_mean_squared_logarithmic_error: 4.1182\n",
      "Epoch 18/100\n",
      "404/404 [==============================] - 16s 40ms/step - loss: 215.6945 - mean_squared_logarithmic_error: 3.3270 - val_loss: 239.9860 - val_mean_squared_logarithmic_error: 3.7569\n",
      "Epoch 19/100\n",
      "404/404 [==============================] - 16s 40ms/step - loss: 214.6644 - mean_squared_logarithmic_error: 3.2864 - val_loss: 237.4545 - val_mean_squared_logarithmic_error: 3.7974\n",
      "Epoch 20/100\n",
      "404/404 [==============================] - 16s 40ms/step - loss: 213.0438 - mean_squared_logarithmic_error: 3.2593 - val_loss: 239.4418 - val_mean_squared_logarithmic_error: 4.0122\n",
      "Epoch 21/100\n",
      "404/404 [==============================] - 16s 40ms/step - loss: 212.4571 - mean_squared_logarithmic_error: 3.2388 - val_loss: 249.3586 - val_mean_squared_logarithmic_error: 4.0387\n",
      "Epoch 22/100\n",
      "404/404 [==============================] - 16s 40ms/step - loss: 211.1898 - mean_squared_logarithmic_error: 3.2012 - val_loss: 256.4747 - val_mean_squared_logarithmic_error: 4.2042\n",
      "Epoch 23/100\n",
      "404/404 [==============================] - 16s 40ms/step - loss: 209.0601 - mean_squared_logarithmic_error: 3.1686 - val_loss: 268.0266 - val_mean_squared_logarithmic_error: 3.9586\n",
      "Epoch 24/100\n",
      "404/404 [==============================] - 16s 40ms/step - loss: 206.7993 - mean_squared_logarithmic_error: 3.1223 - val_loss: 251.4712 - val_mean_squared_logarithmic_error: 4.0193\n",
      "Epoch 25/100\n",
      "404/404 [==============================] - 16s 40ms/step - loss: 207.1145 - mean_squared_logarithmic_error: 3.1854 - val_loss: 268.9259 - val_mean_squared_logarithmic_error: 4.1321\n",
      "Epoch 26/100\n",
      "404/404 [==============================] - 16s 40ms/step - loss: 204.4326 - mean_squared_logarithmic_error: 3.1037 - val_loss: 269.8432 - val_mean_squared_logarithmic_error: 4.0690\n",
      "Epoch 27/100\n",
      "404/404 [==============================] - 16s 40ms/step - loss: 202.6349 - mean_squared_logarithmic_error: 3.0816 - val_loss: 240.1602 - val_mean_squared_logarithmic_error: 4.1585\n",
      "Epoch 28/100\n",
      "404/404 [==============================] - 16s 40ms/step - loss: 201.8280 - mean_squared_logarithmic_error: 3.0314 - val_loss: 271.3756 - val_mean_squared_logarithmic_error: 4.1453\n",
      "Epoch 29/100\n",
      "404/404 [==============================] - 16s 40ms/step - loss: 200.4851 - mean_squared_logarithmic_error: 3.0479 - val_loss: 295.3075 - val_mean_squared_logarithmic_error: 4.4847\n",
      "Epoch 30/100\n",
      "404/404 [==============================] - 16s 40ms/step - loss: 199.9655 - mean_squared_logarithmic_error: 3.0196 - val_loss: 283.7543 - val_mean_squared_logarithmic_error: 4.2120\n",
      "Epoch 31/100\n",
      "404/404 [==============================] - 16s 40ms/step - loss: 199.4638 - mean_squared_logarithmic_error: 3.0150 - val_loss: 271.3128 - val_mean_squared_logarithmic_error: 4.3412\n",
      "Epoch 32/100\n",
      "404/404 [==============================] - 16s 40ms/step - loss: 196.6392 - mean_squared_logarithmic_error: 2.9046 - val_loss: 279.3632 - val_mean_squared_logarithmic_error: 4.2683\n",
      "Epoch 33/100\n",
      "404/404 [==============================] - 16s 40ms/step - loss: 196.2401 - mean_squared_logarithmic_error: 2.9204 - val_loss: 266.1999 - val_mean_squared_logarithmic_error: 4.1999\n",
      "Epoch 34/100\n",
      "404/404 [==============================] - 16s 40ms/step - loss: 193.3650 - mean_squared_logarithmic_error: 2.9118 - val_loss: 263.1757 - val_mean_squared_logarithmic_error: 4.4332\n",
      "Epoch 35/100\n",
      "404/404 [==============================] - 16s 40ms/step - loss: 192.1918 - mean_squared_logarithmic_error: 2.9474 - val_loss: 270.5993 - val_mean_squared_logarithmic_error: 4.2294\n",
      "Epoch 36/100\n",
      "404/404 [==============================] - 16s 40ms/step - loss: 192.0397 - mean_squared_logarithmic_error: 2.8519 - val_loss: 261.8141 - val_mean_squared_logarithmic_error: 4.0593\n",
      "Epoch 37/100\n",
      "404/404 [==============================] - 16s 40ms/step - loss: 191.3652 - mean_squared_logarithmic_error: 2.8729 - val_loss: 283.2448 - val_mean_squared_logarithmic_error: 4.2542\n",
      "Epoch 38/100\n",
      "404/404 [==============================] - 16s 40ms/step - loss: 189.3082 - mean_squared_logarithmic_error: 2.8385 - val_loss: 287.7079 - val_mean_squared_logarithmic_error: 4.4967\n",
      "Epoch 39/100\n",
      "404/404 [==============================] - 16s 40ms/step - loss: 188.5038 - mean_squared_logarithmic_error: 2.8661 - val_loss: 286.6765 - val_mean_squared_logarithmic_error: 4.4038\n",
      "Epoch 40/100\n",
      "404/404 [==============================] - 16s 40ms/step - loss: 187.1209 - mean_squared_logarithmic_error: 2.8152 - val_loss: 271.5462 - val_mean_squared_logarithmic_error: 4.0480\n",
      "Epoch 41/100\n",
      "404/404 [==============================] - 16s 40ms/step - loss: 186.3431 - mean_squared_logarithmic_error: 2.7702 - val_loss: 291.1043 - val_mean_squared_logarithmic_error: 4.4243\n",
      "Epoch 42/100\n",
      "404/404 [==============================] - 16s 40ms/step - loss: 184.1564 - mean_squared_logarithmic_error: 2.7538 - val_loss: 276.5060 - val_mean_squared_logarithmic_error: 4.3397\n",
      "Epoch 43/100\n",
      "404/404 [==============================] - 16s 40ms/step - loss: 183.4189 - mean_squared_logarithmic_error: 2.7511 - val_loss: 301.2980 - val_mean_squared_logarithmic_error: 4.6263\n",
      "Epoch 44/100\n",
      "404/404 [==============================] - 16s 40ms/step - loss: 182.2937 - mean_squared_logarithmic_error: 2.7631 - val_loss: 288.6176 - val_mean_squared_logarithmic_error: 4.6852\n",
      "Epoch 45/100\n",
      "404/404 [==============================] - 16s 40ms/step - loss: 180.3339 - mean_squared_logarithmic_error: 2.6640 - val_loss: 284.3431 - val_mean_squared_logarithmic_error: 4.5228\n",
      "Epoch 46/100\n",
      "404/404 [==============================] - 16s 40ms/step - loss: 178.4186 - mean_squared_logarithmic_error: 2.6596 - val_loss: 289.6791 - val_mean_squared_logarithmic_error: 4.7092\n",
      "Epoch 47/100\n",
      "404/404 [==============================] - 16s 40ms/step - loss: 178.5326 - mean_squared_logarithmic_error: 2.6636 - val_loss: 282.9792 - val_mean_squared_logarithmic_error: 4.6676\n",
      "Epoch 48/100\n",
      "404/404 [==============================] - 16s 40ms/step - loss: 176.7108 - mean_squared_logarithmic_error: 2.6183 - val_loss: 286.3699 - val_mean_squared_logarithmic_error: 4.6631\n",
      "Epoch 49/100\n",
      "404/404 [==============================] - 16s 40ms/step - loss: 177.3988 - mean_squared_logarithmic_error: 2.6288 - val_loss: 293.6010 - val_mean_squared_logarithmic_error: 4.8622\n",
      "Epoch 50/100\n",
      "404/404 [==============================] - 16s 40ms/step - loss: 175.1859 - mean_squared_logarithmic_error: 2.6182 - val_loss: 293.8514 - val_mean_squared_logarithmic_error: 4.9699\n",
      "Epoch 51/100\n",
      "404/404 [==============================] - 16s 40ms/step - loss: 174.5856 - mean_squared_logarithmic_error: 2.6248 - val_loss: 288.6030 - val_mean_squared_logarithmic_error: 4.7778\n",
      "Epoch 52/100\n",
      "404/404 [==============================] - 16s 40ms/step - loss: 172.8882 - mean_squared_logarithmic_error: 2.5800 - val_loss: 282.1954 - val_mean_squared_logarithmic_error: 4.7294\n",
      "Epoch 53/100\n",
      "404/404 [==============================] - 16s 40ms/step - loss: 171.5956 - mean_squared_logarithmic_error: 2.6317 - val_loss: 287.6098 - val_mean_squared_logarithmic_error: 4.8844\n",
      "Epoch 54/100\n",
      "404/404 [==============================] - 16s 40ms/step - loss: 170.0370 - mean_squared_logarithmic_error: 2.5849 - val_loss: 299.0140 - val_mean_squared_logarithmic_error: 4.7394\n",
      "Epoch 55/100\n",
      "404/404 [==============================] - 16s 40ms/step - loss: 169.6958 - mean_squared_logarithmic_error: 2.5529 - val_loss: 286.3802 - val_mean_squared_logarithmic_error: 4.9255\n",
      "Epoch 56/100\n",
      "404/404 [==============================] - 16s 40ms/step - loss: 168.0305 - mean_squared_logarithmic_error: 2.5498 - val_loss: 270.0056 - val_mean_squared_logarithmic_error: 5.1907\n",
      "Epoch 57/100\n",
      "404/404 [==============================] - 16s 40ms/step - loss: 166.9964 - mean_squared_logarithmic_error: 2.5226 - val_loss: 281.2564 - val_mean_squared_logarithmic_error: 5.1179\n",
      "Epoch 58/100\n",
      "404/404 [==============================] - 16s 40ms/step - loss: 166.6454 - mean_squared_logarithmic_error: 2.5521 - val_loss: 288.9834 - val_mean_squared_logarithmic_error: 5.0323\n",
      "Epoch 59/100\n",
      "404/404 [==============================] - 16s 40ms/step - loss: 165.2495 - mean_squared_logarithmic_error: 2.5161 - val_loss: 282.2148 - val_mean_squared_logarithmic_error: 4.9276\n",
      "Epoch 60/100\n",
      "404/404 [==============================] - 16s 40ms/step - loss: 164.7465 - mean_squared_logarithmic_error: 2.4942 - val_loss: 286.6405 - val_mean_squared_logarithmic_error: 4.9925\n",
      "Epoch 61/100\n",
      "404/404 [==============================] - 16s 40ms/step - loss: 162.7540 - mean_squared_logarithmic_error: 2.4446 - val_loss: 300.0800 - val_mean_squared_logarithmic_error: 5.0836\n",
      "Epoch 62/100\n",
      "404/404 [==============================] - 16s 40ms/step - loss: 161.0545 - mean_squared_logarithmic_error: 2.4968 - val_loss: 274.6105 - val_mean_squared_logarithmic_error: 5.2528\n",
      "Epoch 63/100\n",
      "404/404 [==============================] - 16s 40ms/step - loss: 161.7738 - mean_squared_logarithmic_error: 2.4495 - val_loss: 293.3880 - val_mean_squared_logarithmic_error: 5.0159\n",
      "Epoch 64/100\n",
      "404/404 [==============================] - 16s 40ms/step - loss: 160.8639 - mean_squared_logarithmic_error: 2.4521 - val_loss: 294.1597 - val_mean_squared_logarithmic_error: 5.0597\n",
      "Epoch 65/100\n",
      "404/404 [==============================] - 16s 40ms/step - loss: 158.8185 - mean_squared_logarithmic_error: 2.4087 - val_loss: 291.8155 - val_mean_squared_logarithmic_error: 5.1139\n",
      "Epoch 66/100\n",
      "404/404 [==============================] - 16s 40ms/step - loss: 158.5781 - mean_squared_logarithmic_error: 2.4181 - val_loss: 291.8512 - val_mean_squared_logarithmic_error: 4.9763\n",
      "Epoch 67/100\n",
      "404/404 [==============================] - 16s 40ms/step - loss: 156.3673 - mean_squared_logarithmic_error: 2.4020 - val_loss: 299.3606 - val_mean_squared_logarithmic_error: 4.8005\n",
      "Epoch 68/100\n",
      "404/404 [==============================] - 16s 40ms/step - loss: 156.3964 - mean_squared_logarithmic_error: 2.4210 - val_loss: 288.1183 - val_mean_squared_logarithmic_error: 4.8357\n",
      "Epoch 69/100\n",
      " 86/404 [=====>........................] - ETA: 11s - loss: 152.8164 - mean_squared_logarithmic_error: 2.4228"
     ]
    }
   ],
   "source": [
    "model = Sequential()\n",
    "model.add(LSTM(unit, input_shape=X.shape[1:],activation='relu',return_sequences=True))\n",
    "model.add(Dropout(0.1))\n",
    "model.add(LSTM(unit,activation='relu',return_sequences=True))\n",
    "model.add(Dropout(0.1))\n",
    "model.add(SimpleRNN(unit,activation='relu'))\n",
    "model.add(Dropout(0.1))\n",
    "model.add(Dense(unit, activation='relu'))\n",
    "model.add(Dropout(0.1))\n",
    "model.add(Dense(1))\n",
    "\n",
    "model.compile(optimizer='Adam',loss='mae',metrics=[MeanSquaredLogarithmicError()])\n",
    "history = model.fit(X_train, y_train, batch_size=64,epochs=epochs,validation_data=(X_test, y_test),callbacks=[checkpoint])"
   ]
  },
  {
   "cell_type": "code",
   "execution_count": 95,
   "id": "27bca951",
   "metadata": {},
   "outputs": [
    {
     "data": {
      "image/png": "[encoded data removed]",
      "text/plain": [
       "<Figure size 432x288 with 1 Axes>"
      ]
     },
     "metadata": {
      "needs_background": "light"
     },
     "output_type": "display_data"
    }
   ],
   "source": [
    "loss = history.history['root_mean_squared_error']\n",
    "val_loss = history.history['val_root_mean_squared_error']\n",
    "\n",
    "plt.plot(loss, label='Training root_mean_squared_error')\n",
    "plt.plot(val_loss, label='Validation root_mean_squared_error')\n",
    "plt.title('Training and Validation root_mean_squared_error')\n",
    "plt.legend()\n",
    "plt.show()\n"
   ]
  },
  {
   "cell_type": "code",
   "execution_count": 106,
   "id": "701e6608",
   "metadata": {
    "scrolled": true
   },
   "outputs": [
    {
     "name": "stdout",
     "output_type": "stream",
     "text": [
      "3.6078_07_men_5_lstm_3_dense_lstm+rnn_unit_100_test_size_0.2\n"
     ]
    },
    {
     "data": {
      "image/png": "[encoded data removed]",
      "text/plain": [
       "<Figure size 432x288 with 1 Axes>"
      ]
     },
     "metadata": {
      "needs_background": "light"
     },
     "output_type": "display_data"
    }
   ],
   "source": [
    "from tensorflow.python.keras.models import load_model\n",
    "\n",
    "best_model = load_model('./models/'+ str(select()))\n",
    "\n",
    "pre = best_model.predict(X_test)\n",
    "import matplotlib.pyplot as plt\n",
    "# df_time = df['date'][-len(y_test):].values\n",
    "# print(df_time)\n",
    "# pre = pre.reshape(724,)\n",
    "# print(pre)\n",
    "# print(y_test)\n",
    "\n",
    "plt.plot(y_test[200:400],color='red',label='price')\n",
    "plt.plot(pre[209:409],color='green',label='predict')\n",
    "plt.savefig('./save.png',)\n",
    "plt.show()"
   ]
  },
  {
   "cell_type": "code",
   "execution_count": null,
   "id": "d0a60dec",
   "metadata": {},
   "outputs": [],
   "source": []
  }
 ],
 "metadata": {
  "kernelspec": {
   "display_name": "Python 3 (ipykernel)",
   "language": "python",
   "name": "python3"
  },
  "language_info": {
   "codemirror_mode": {
    "name": "ipython",
    "version": 3
   },
   "file_extension": ".py",
   "mimetype": "text/x-python",
   "name": "python",
   "nbconvert_exporter": "python",
   "pygments_lexer": "ipython3",
   "version": "3.9.12"
  }
 },
 "nbformat": 4,
 "nbformat_minor": 5
}
