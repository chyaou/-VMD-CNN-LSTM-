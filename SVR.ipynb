{
 "cells": [
  {
   "cell_type": "markdown",
   "id": "1d4f531b",
   "metadata": {},
   "source": [
    "kernal：核函数类型。一般常用的有‘rbf’，‘linear’，‘poly’，等，发现使用‘rbf’参数时函数模型的拟合效果最好，其他拟合都是线性拟合\n",
    "C：惩罚因子。C表征你有多么重视离群点，C越大越重视，越不想丢掉它们。C值大时对误差分类的惩罚增大，C值小时对误差分类的惩罚减小。当C越大，趋近无穷的时候，表示不允许分类误差的存在，margin越小，容易过拟合；当C趋于0时，表示我们不再关注分类是否正确，只要求margin越大，容易欠拟合。\n",
    "gamma：是’rbf’，’poly’和’sigmoid’的核系数且gamma的值必须大于0。随着gamma的增大，存在对于测试集分类效果差而对训练分类效果好的情况，并且容易泛化误差出现过拟合"
   ]
  },
  {
   "cell_type": "code",
   "execution_count": 4,
   "id": "68718824",
   "metadata": {},
   "outputs": [],
   "source": [
    "from sklearn.svm import SVR\n",
    "\n",
    "svr = SVR(kernel='rbf', C=1e3, gamma=0.01)"
   ]
  },
  {
   "cell_type": "code",
   "execution_count": 7,
   "id": "8d861dbd",
   "metadata": {},
   "outputs": [],
   "source": [
    "import pandas as pd\n",
    "df = pd.read_csv(\"./data2/handle_Turbine_Data .csv\")\n",
    "\n",
    "df_for_training = df[:-9685]\n",
    "df_for_testing = df[-9685:]"
   ]
  },
  {
   "cell_type": "code",
   "execution_count": 9,
   "id": "a4897c90",
   "metadata": {},
   "outputs": [],
   "source": [
    "'''\n",
    "可以注意到数据范围非常大，并且它们没有在相同的范围内缩放，\n",
    "因此为了避免预测错误，让我们先使用MinMaxScaler缩放数据。\n",
    "(也可以使用StandardScaler)\n",
    "'''\n",
    "from sklearn.preprocessing import MinMaxScaler\n",
    "scaler = MinMaxScaler(feature_range=(0, 1))\n",
    "df_for_training_scaled = scaler.fit_transform(df_for_training)\n",
    "df_for_testing_scaled = scaler.transform(df_for_testing)"
   ]
  },
  {
   "cell_type": "code",
   "execution_count": 10,
   "id": "5ac1fe9c",
   "metadata": {},
   "outputs": [],
   "source": [
    "def createXY(dataset, n_past):\n",
    "    dataX = []\n",
    "    dataY = []\n",
    "    for i in range(n_past, len(dataset)):\n",
    "        dataX.append(dataset[i - n_past:i, 0:dataset.shape[1]])\n",
    "        dataY.append(dataset[i, 0])\n",
    "    return np.array(dataX), np.array(dataY)"
   ]
  },
  {
   "cell_type": "code",
   "execution_count": 34,
   "id": "ae126bfd",
   "metadata": {},
   "outputs": [],
   "source": [
    "trainX, trainY = createXY(df_for_training_scaled, 60)\n",
    "testX, testY = createXY(df_for_testing_scaled, 60)"
   ]
  },
  {
   "cell_type": "code",
   "execution_count": 67,
   "id": "cf961f4a",
   "metadata": {},
   "outputs": [
    {
     "name": "stderr",
     "output_type": "stream",
     "text": [
      "E:\\anaconda\\lib\\site-packages\\sklearn\\utils\\validation.py:993: DataConversionWarning: A column-vector y was passed when a 1d array was expected. Please change the shape of y to (n_samples, ), for example using ravel().\n",
      "  y = column_or_1d(y, warn=True)\n"
     ]
    }
   ],
   "source": [
    "trainX = np.array(df_for_training.iloc[:,1:])\n",
    "trainY = np.array(df_for_training.iloc[:,-1:])\n",
    "testX = np.array(df_for_testing.iloc[:,1:])\n",
    "testY = np.array(df_for_testing.iloc[:,-1:])\n",
    "svr_model = SVR(kernel='rbf',C=100,gamma=.001).fit(trainX,trainY)"
   ]
  },
  {
   "cell_type": "code",
   "execution_count": 68,
   "id": "5c477c05",
   "metadata": {},
   "outputs": [
    {
     "name": "stdout",
     "output_type": "stream",
     "text": [
      "Testing R^2 = 0.964\n"
     ]
    }
   ],
   "source": [
    "print ('Testing R^2 =', round(svr_model.score(testX,testY),3))"
   ]
  },
  {
   "cell_type": "code",
   "execution_count": 69,
   "id": "5c147717",
   "metadata": {},
   "outputs": [],
   "source": [
    "pred = svr_model.predict(testX)"
   ]
  },
  {
   "cell_type": "code",
   "execution_count": 70,
   "id": "d98a5ae7",
   "metadata": {},
   "outputs": [
    {
     "data": {
      "text/plain": [
       "array([3.36767652, 4.32357049, 3.56030123, ..., 3.31918886, 3.32322719,\n",
       "       3.49451079])"
      ]
     },
     "execution_count": 70,
     "metadata": {},
     "output_type": "execute_result"
    }
   ],
   "source": [
    "pred"
   ]
  },
  {
   "cell_type": "code",
   "execution_count": 71,
   "id": "2ec1629b",
   "metadata": {},
   "outputs": [
    {
     "data": {
      "text/plain": [
       "array([[3.27017211],\n",
       "       [4.30408479],\n",
       "       [3.57908879],\n",
       "       ...,\n",
       "       [3.33183875],\n",
       "       [3.28446822],\n",
       "       [3.47520505]])"
      ]
     },
     "execution_count": 71,
     "metadata": {},
     "output_type": "execute_result"
    }
   ],
   "source": [
    "testY"
   ]
  },
  {
   "cell_type": "code",
   "execution_count": 74,
   "id": "d7d020d3",
   "metadata": {},
   "outputs": [
    {
     "name": "stdout",
     "output_type": "stream",
     "text": [
      "均方误差: 0.135460\n",
      "均方根误差: 0.368049\n",
      "平均绝对误差: 0.119101\n",
      "平均绝对百分误差: 0.021031\n"
     ]
    }
   ],
   "source": [
    "import math\n",
    "from sklearn.metrics import mean_squared_error, mean_absolute_error, mean_absolute_percentage_error\n",
    "##########evaluate##############\n",
    "# calculate MSE 均方误差 ---> E[(预测值-真实值)^2] (预测值减真实值求平方后求均值)\n",
    "mse = mean_squared_error(pred, testY)\n",
    "# calculate RMSE 均方根误差--->sqrt[MSE]    (对均方误差开方)\n",
    "rmse = math.sqrt(mean_squared_error(pred, testY))\n",
    "# calculate MAE 平均绝对误差----->E[|预测值-真实值|](预测值减真实值求绝对值后求均值）\n",
    "mae = mean_absolute_error(pred, testY)\n",
    "mape = mean_absolute_percentage_error(pred, testY)\n",
    "print('均方误差: %.6f' % mse)\n",
    "print('均方根误差: %.6f' % rmse)\n",
    "print('平均绝对误差: %.6f' % mae)\n",
    "print('平均绝对百分误差: %.6f' % mape)"
   ]
  }
 ],
 "metadata": {
  "kernelspec": {
   "display_name": "Python 3 (ipykernel)",
   "language": "python",
   "name": "python3"
  },
  "language_info": {
   "codemirror_mode": {
    "name": "ipython",
    "version": 3
   },
   "file_extension": ".py",
   "mimetype": "text/x-python",
   "name": "python",
   "nbconvert_exporter": "python",
   "pygments_lexer": "ipython3",
   "version": "3.9.12"
  }
 },
 "nbformat": 4,
 "nbformat_minor": 5
}
